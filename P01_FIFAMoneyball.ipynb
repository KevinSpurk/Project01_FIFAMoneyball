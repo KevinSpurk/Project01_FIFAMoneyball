{
 "cells": [
  {
   "cell_type": "markdown",
   "id": "b45f69d7-6628-4919-b45c-28397093a45f",
   "metadata": {},
   "source": [
    "# Project FIFA Moneyball\n",
    "by Kevin Spurk"
   ]
  },
  {
   "cell_type": "markdown",
   "id": "bbd4c908-a52a-42da-a53a-6cc7fefe8a23",
   "metadata": {},
   "source": [
    " "
   ]
  },
  {
   "cell_type": "markdown",
   "id": "9b45d261-b11d-4821-a905-59fddc03044f",
   "metadata": {},
   "source": [
    "# 1  Descrption\n",
    "\n",
    "#### | summary |\n",
    "\n",
    "In the project, I use a dataset from the game FIFA21, that contains data of ca. 17.000 football players, listing a variety of information for them, such as club, wage, different scores for their skills and many more."
   ]
  },
  {
   "cell_type": "markdown",
   "id": "facda12c-c8a1-47a5-bfd3-f99a41f559c0",
   "metadata": {},
   "source": [
    "#### | objectives |\n",
    "\n",
    "The objective is to build a linear regression model that predicts the players market value as accurate as possible. Moreover I want to answer the following 3 questions:\n",
    "\n",
    "1. How much does the prediction quality vary in to the value? \n",
    "E.g. is there a trend of the model getting worse the highger the value is?\n",
    "2. Which field position has the highest average value?\n",
    "3.   How many players have a maximum overall score?"
   ]
  },
  {
   "cell_type": "markdown",
   "id": "bf0dea44-e474-4d5b-b676-ef169aba742a",
   "metadata": {},
   "source": [
    "# 2 Setup "
   ]
  },
  {
   "cell_type": "markdown",
   "id": "fbdee460-ee6d-4d60-8eb5-29b90b04420f",
   "metadata": {},
   "source": [
    "#### | library imports |"
   ]
  },
  {
   "cell_type": "code",
   "execution_count": null,
   "id": "60d9339d-0972-4d66-a54e-f546f85486ac",
   "metadata": {},
   "outputs": [],
   "source": [
    "import pandas as pd\n",
    "import numpy as np\n",
    "import matplotlib.pyplot as plt\n",
    "import scipy.stats as stats\n",
    "from scipy.stats import norm\n",
    "from scipy.special import inv_boxcox\n",
    "import matplotlib.pyplot as plt\n",
    "from sklearn.linear_model import LinearRegression\n",
    "from sklearn.metrics import r2_score, mean_squared_error, mean_absolute_error\n",
    "from sklearn.preprocessing import OneHotEncoder, Normalizer, StandardScaler, LabelEncoder\n",
    "from sklearn.model_selection import train_test_split\n",
    "import statsmodels.api as sm\n",
    "from statsmodels.formula.api import ols\n",
    "import seaborn as sns\n",
    "import os\n",
    "import math\n",
    "import random\n",
    "import warnings\n",
    "warnings.filterwarnings('ignore')\n",
    "\n",
    "pd.options.display.max_columns = None\n",
    "pd.set_option('max_row', None)\n"
   ]
  },
  {
   "cell_type": "markdown",
   "id": "ff3a6c32-74c9-4fca-aac1-c7accfe3dcbe",
   "metadata": {},
   "source": [
    "##### | Data import / overview |"
   ]
  },
  {
   "cell_type": "code",
   "execution_count": null,
   "id": "a6371b86-7f08-4f94-a53c-b00b096b2fc1",
   "metadata": {
    "tags": []
   },
   "outputs": [],
   "source": [
    "data = pd.read_csv('data_files/fifa21_male2.csv')\n",
    "data.head()"
   ]
  },
  {
   "cell_type": "code",
   "execution_count": null,
   "id": "61bf1f9c-9e49-4364-acbb-1430986014fa",
   "metadata": {
    "tags": []
   },
   "outputs": [],
   "source": [
    "data.shape"
   ]
  },
  {
   "cell_type": "code",
   "execution_count": null,
   "id": "d77746de-6e6b-4be3-bcd9-307d5f9ee858",
   "metadata": {
    "tags": []
   },
   "outputs": [],
   "source": [
    "data.dtypes"
   ]
  },
  {
   "cell_type": "code",
   "execution_count": null,
   "id": "6322145d-bd6b-4691-82c1-9cf2fa56b57b",
   "metadata": {
    "tags": []
   },
   "outputs": [],
   "source": [
    "# check if column id is ready to be used as index column\n",
    "\n",
    "data['ID'].nunique()\n"
   ]
  },
  {
   "cell_type": "markdown",
   "id": "deb6233a-f9c1-479d-9970-d42831d5f93a",
   "metadata": {},
   "source": [
    "# 3 Cleaning/Wrangling"
   ]
  },
  {
   "cell_type": "markdown",
   "id": "ba711e72-ecae-4f15-a1e8-891d5623318a",
   "metadata": {},
   "source": [
    "#### | clean column names | "
   ]
  },
  {
   "cell_type": "code",
   "execution_count": null,
   "id": "2f688d5a-db60-4f0d-bef7-02eebdfeb699",
   "metadata": {},
   "outputs": [],
   "source": [
    "data.rename(columns={'W/F':'r_weakfoot', 'A/W':'r_attacking_work', 'D/W':'r_defensive_work', 'IR':'r_intr', 'SM':'r_skillmove'}, inplace=True)\n",
    "\n",
    "def clean_headers(df):\n",
    "    df.columns = df.columns.str.lower().str.strip().str.replace(' ', '_')\n",
    "    return df"
   ]
  },
  {
   "cell_type": "code",
   "execution_count": null,
   "id": "432b82d8-c6f9-43b6-80d7-df7e4f15adc0",
   "metadata": {
    "tags": []
   },
   "outputs": [],
   "source": [
    "clean_headers(data)\n",
    "\n",
    "data.columns"
   ]
  },
  {
   "cell_type": "markdown",
   "id": "e3e9edc6-62ca-473a-a013-451d74b38758",
   "metadata": {},
   "source": [
    "#### | Drop columns |"
   ]
  },
  {
   "cell_type": "code",
   "execution_count": null,
   "id": "ad94db39-c360-495d-911e-db76d193f1d7",
   "metadata": {},
   "outputs": [],
   "source": [
    "# drop unnecessary columns\n",
    "\n",
    "data = data.drop(['player_photo','club_logo','flag_photo', 'gender'], axis=1)"
   ]
  },
  {
   "cell_type": "code",
   "execution_count": null,
   "id": "a938c68d-5226-44dd-9118-f73c9d1af243",
   "metadata": {
    "jupyter": {
     "outputs_hidden": true
    },
    "tags": []
   },
   "outputs": [],
   "source": [
    "data['loan_date_end'].count()"
   ]
  },
  {
   "cell_type": "code",
   "execution_count": null,
   "id": "ed93c9d9-6309-4041-aee8-073409bf79f1",
   "metadata": {
    "jupyter": {
     "outputs_hidden": true
    },
    "tags": []
   },
   "outputs": [],
   "source": [
    "data[~data['loan_date_end'].isnull()].head()"
   ]
  },
  {
   "cell_type": "markdown",
   "id": "c2aa17e1-c0c5-459b-983e-8ac42ac30425",
   "metadata": {},
   "source": [
    "-> the ratio of players, that are loaned to another team is very low. The column is not going to be helpful to create a model.\n",
    "\n",
    "-> The column 'team_&_contract' is redundant because it doesn't contain any information that is not already present in other columns"
   ]
  },
  {
   "cell_type": "code",
   "execution_count": null,
   "id": "856d8593-75c1-432a-a0ca-4a9a519368e4",
   "metadata": {},
   "outputs": [],
   "source": [
    "data = data.drop(['team_&_contract','loan_date_end'], axis=1)"
   ]
  },
  {
   "cell_type": "markdown",
   "id": "a79ec0e6-f003-4711-bc6e-049e79137437",
   "metadata": {},
   "source": [
    "#### | indexing |"
   ]
  },
  {
   "cell_type": "code",
   "execution_count": null,
   "id": "129a831e-4d3c-4d21-a860-fe38abd64e97",
   "metadata": {},
   "outputs": [],
   "source": [
    "data = data.set_index('id')\n",
    "data = data.reset_index(drop=True)"
   ]
  },
  {
   "cell_type": "markdown",
   "id": "7526da89-fec3-4449-b657-9e2fe0032b60",
   "metadata": {},
   "source": [
    "#### | cleaning |\n",
    "parametrization of cathegorical columns\n",
    "and cleaning columns to prepare some for conversions to numerical columns"
   ]
  },
  {
   "cell_type": "code",
   "execution_count": null,
   "id": "ff1876d2-ed93-401a-9873-01552a4e9882",
   "metadata": {
    "jupyter": {
     "outputs_hidden": true,
     "source_hidden": true
    },
    "tags": []
   },
   "outputs": [],
   "source": [
    "cat_select = ['nationality', 'club', 'bp', 'position', 'foot', 'r_attacking_work', 'r_defensive_work']\n",
    "\n",
    "for column in cat_select:\n",
    "    print(column, data[column].unique())"
   ]
  },
  {
   "cell_type": "code",
   "execution_count": null,
   "id": "3c681bc6-6bb6-4beb-872f-a25ac6922a25",
   "metadata": {},
   "outputs": [],
   "source": [
    "col_cat = list(data.select_dtypes(include=[np.object]).columns.values)\n",
    "col_num = list(data.select_dtypes(include=[np.number]).columns.values)\n",
    "col_money = ['value', 'wage', 'release_clause']\n",
    "col_ratings = ['r_weakfoot', 'r_skillmove', 'r_intr']\n",
    "pos_score = ['ls', 'st', 'rs', 'lw', 'lf', 'cf', 'rf', 'rw', 'lam', 'cam', 'ram', 'lm', 'lcm', 'cm', 'rcm', 'rm', 'lwb', 'ldm', 'cdm', 'rdm', 'rwb', 'lb', 'lcb', 'cb', 'rcb', 'rb', 'gk']\n",
    "\n",
    "# initial cleaning\n",
    "\n",
    "def first_clean(df, columns=col_cat, skip_columns=[]):\n",
    "    for column in columns:\n",
    "        if column not in skip_columns:\n",
    "            df[column] = df[column].str.strip().str.lower().str.replace(' ','_')\n",
    "    return df\n",
    "\n",
    "data = first_clean(data, skip_columns=['name', 'contract', 'joined'])\n"
   ]
  },
  {
   "cell_type": "markdown",
   "id": "cdaff215-7df8-4ee9-8f72-762bc2d49e62",
   "metadata": {},
   "source": [
    "| cleaning of individual columns and conversion |"
   ]
  },
  {
   "cell_type": "code",
   "execution_count": null,
   "id": "f3b854aa-2b6e-4c12-bb8a-2b065b39ca15",
   "metadata": {
    "tags": []
   },
   "outputs": [],
   "source": [
    "data['nationality'] = data['nationality'].str.replace('&amp;','').str.replace('__','_').str.replace('___','_')\n",
    "\n",
    "data['height'] = data['height'].str.replace('\"','')\n",
    "data['height'] = data['height'].apply(lambda x: round(int(x.split(\"'\")[0])*30.48 + int(x.split(\"'\")[1])*2.54))\n",
    "\n",
    "data['weight'] = data['weight'].str.replace('lbs','')\n",
    "\n",
    "# converting contract to contract duration so 'joined' and 'contract' are not redundant and the duration might be relevant. \n",
    "# Toms reasoning regarding contract end is a good alternative \n",
    "\n",
    "data['joined'] = pd.to_datetime(data['joined'])\n",
    "data['joined'] = data['joined'].dt.strftime('%Y')\n",
    "\n",
    "def contract_to_num(x):\n",
    "    years = [int(i) for i in x.split() if i.isdigit()]\n",
    "    if (('loan') not in str(x).lower()):\n",
    "        if len(years) == 2:\n",
    "            x = years[1] - years[0]\n",
    "            return int(x)\n",
    "        elif len(years) == 1:\n",
    "            x = 1\n",
    "            return int(x)\n",
    "        else:\n",
    "            return np.NaN\n",
    "    else:\n",
    "        return np.NaN\n",
    "\n",
    "data['contract'] = data['contract'].apply(contract_to_num)"
   ]
  },
  {
   "cell_type": "code",
   "execution_count": null,
   "id": "4fd086de-0964-4bb9-a4c7-1e458496368a",
   "metadata": {
    "tags": []
   },
   "outputs": [],
   "source": [
    "'''\n",
    "# NOT WORKING\n",
    "# cleaning columns in bulk and converting to numerical values \n",
    "\n",
    "def money_to_num(df, columns=[]):\n",
    "    for column in columns:\n",
    "        df[column] = df[column].str.replace('€','')\n",
    "        if ('m') in df[column]:\n",
    "            df[column] = df[column].str.replace('m','')\n",
    "            df[column] = int(round(float(df[column])*1000000))\n",
    "        elif ('k') in df[column]:\n",
    "            df[column] = df[column].str.replace('k','')\n",
    "            df[column] = int(round(float(df[column])*1000))\n",
    "        else:\n",
    "            df[column] = int(round(float(df[column])))\n",
    "    return df\n",
    "\n",
    "def ratings_to_num(df, columns=[]):\n",
    "    for column in columns:\n",
    "        df[column] = int(df[column].str.replace('★','').str.replace('_',''))\n",
    "    return df\n",
    "\n",
    "def score_to_num(df, columns=[]):\n",
    "    for column in columns:\n",
    "        df[column] = df[column].str.replace('+-','-')\n",
    "        if ('+') in df[column]:\n",
    "            df[column] = int(df[column].split('+')[0]) + int(df[column].split('+')[1])\n",
    "        if ('-') in df[column]:\n",
    "            df[column] = int(df[column].split('-')[1]) + int(df[column].split('-')[0])\n",
    "        else:\n",
    "            df[column] = int(df[column])\n",
    "    return df\n",
    "\n",
    "data = money_to_num(data, columns=col_money)\n",
    "data = ratings_to_num(data, columns=col_ratings)\n",
    "data = score_to_num(data, columns=pos_score)\n",
    "\n",
    "'''"
   ]
  },
  {
   "cell_type": "markdown",
   "id": "9edad27c-1929-497f-8b69-397625d38a6f",
   "metadata": {},
   "source": [
    "| cleaning columns in bulk and converting to numerical values |"
   ]
  },
  {
   "cell_type": "code",
   "execution_count": null,
   "id": "ea769f2a-9122-4e8f-8182-ba2d86636c00",
   "metadata": {},
   "outputs": [],
   "source": [
    "def money_to_num(x):\n",
    "    # columns value, wage, release_clause\n",
    "    x = str(x).replace('€','')\n",
    "    if (('m') in str(x).lower()):\n",
    "        x = x.replace('m','')\n",
    "        x = int(round(float(x)*1000000))\n",
    "        return x\n",
    "    elif (('k') in str(x).lower()):\n",
    "        x = x.replace('k','')\n",
    "        x = int(round(float(x)*1000))\n",
    "        return x\n",
    "    else:\n",
    "        return int(round(float(x)))\n",
    "    \n",
    "def ratings_to_num(x):\n",
    "    # columns r_weakfoot, r_skillmove, r_intr\n",
    "    x = int(str(x).replace('★','').replace('_',''))\n",
    "    return int(x)\n",
    "\n",
    "def score_to_num(x):\n",
    "    # columns with positional scores\n",
    "    x = str(x).replace('+-','-')\n",
    "    if ('+') in x:\n",
    "        x = int(x.split('+')[0]) + int(x.split('+')[1])\n",
    "    elif ('-') in x:\n",
    "        x = int(x.split('-')[1]) + int(x.split('-')[0])\n",
    "    else:\n",
    "        x = int(x)\n",
    "    return x\n",
    "\n",
    "for column in col_money:\n",
    "    data[column] = data[column].apply(money_to_num)\n",
    "    \n",
    "for column in col_ratings:\n",
    "    data[column] = data[column].apply(ratings_to_num)\n",
    "    \n",
    "for column in pos_score:\n",
    "    data[column] = data[column].apply(score_to_num)"
   ]
  },
  {
   "cell_type": "code",
   "execution_count": null,
   "id": "ade1167a-241e-42c5-9009-547baf4c43ca",
   "metadata": {
    "jupyter": {
     "outputs_hidden": true
    },
    "tags": []
   },
   "outputs": [],
   "source": [
    "data.head()"
   ]
  },
  {
   "cell_type": "markdown",
   "id": "bb8aa649-cc94-46e6-b7b3-84507da5bd0a",
   "metadata": {},
   "source": [
    "#### | handling of null values |"
   ]
  },
  {
   "cell_type": "code",
   "execution_count": null,
   "id": "00a6e246-bc04-4a5e-bbc1-4b677a482926",
   "metadata": {
    "jupyter": {
     "outputs_hidden": true
    },
    "tags": []
   },
   "outputs": [],
   "source": [
    "for column in data.columns:\n",
    "    print(column, data[column].isna().sum())"
   ]
  },
  {
   "cell_type": "code",
   "execution_count": null,
   "id": "3854b02e-4573-46b6-b94c-92513fe5155b",
   "metadata": {
    "jupyter": {
     "outputs_hidden": true
    },
    "tags": []
   },
   "outputs": [],
   "source": [
    "data['contract'].value_counts()\n",
    "data['hits'].value_counts()\n",
    "data['composure'].value_counts()\n",
    "data['r_attacking_work'].value_counts()\n",
    "data['r_defensive_work'].value_counts()"
   ]
  },
  {
   "cell_type": "code",
   "execution_count": null,
   "id": "785be514-d72f-4a33-981e-22a1d8fc2fce",
   "metadata": {
    "jupyter": {
     "outputs_hidden": true
    },
    "tags": []
   },
   "outputs": [],
   "source": [
    "col_value_copy = ['position']\n",
    "col_fill_median = ['composure']\n",
    "col_fill_mode = ['hits','r_attacking_work', 'r_defensive_work']\n",
    "\n",
    "# 'position' gets filled with the respective value from column 'bp'.  \n",
    "\n",
    "for column in col_value_copy:\n",
    "    data[column] = data[column].fillna(data['bp'])\n",
    "\n",
    "'''\n",
    "# NOT WORKING\n",
    "# composure, r_attacking_work, r_defensive_work get filled with the median or mode value of the player tier, the player is in (top tier = players with ova > 66, mid tier = players with ova between 33 and 66), btm tier = players with ova < 30\n",
    "\n",
    "for column in col_fill_median:\n",
    "    median_toptier = data[data['ova'] > 66][column].median()\n",
    "    median_midtier = data[(data['ova'] > 33) & (data['ova'] <= 66)][column].median()\n",
    "    median_btmtier = data[data['ova'] <= 33][column].median()\n",
    "    \n",
    "    data[data['ova'] > 66][column] = data[data['ova'] > 66][column].fillna(median_toptier)\n",
    "    data[(data['ova'] > 33) & (data['ova'] <= 66)][column] = data[(data['ova'] > 33) & (data['ova'] <= 66)][column].fillna(median_midtier)\n",
    "    data[data['ova'] < 33][column] = data[data['ova'] < 33][column].fillna(median_btmtier)\n",
    "'''    \n",
    "\n",
    "# composure, r_attacking_work, r_defensive_work get filled with the median or mode value of the column\n",
    "\n",
    "for column in col_fill_median:\n",
    "    median_value = data[column].median()\n",
    "    data[column] = data[column].fillna(median_value)\n",
    "    \n",
    "for column in col_fill_mode:\n",
    "    mode_value = data[column].mode()\n",
    "    data[column] = data[column].fillna(mode_value[0]) \n",
    "\n",
    "for column in data.columns:\n",
    "    print(column, data[column].isna().sum())\n",
    "    "
   ]
  },
  {
   "cell_type": "code",
   "execution_count": null,
   "id": "157eb6f6-ee31-4f67-9dd9-693177c1261f",
   "metadata": {
    "jupyter": {
     "outputs_hidden": true
    },
    "tags": []
   },
   "outputs": [],
   "source": [
    "data['contract'].value_counts()"
   ]
  },
  {
   "cell_type": "code",
   "execution_count": null,
   "id": "09087c2c-feb7-4162-a5a8-a43db555c2a2",
   "metadata": {},
   "outputs": [],
   "source": [
    "# replace null in column 'contract' with the tp 10 occuring values taking into account how often they appear\n",
    "\n",
    "def topx_picker(df, in_column, topx):\n",
    "    column_pick = in_column\n",
    "    values_sorted = df[column_pick].value_counts()\n",
    "    value_list = []\n",
    "    amount_list = []\n",
    "    upper_limits = []\n",
    "    lower_limits = []\n",
    "    diff = 0\n",
    "    top_count = topx\n",
    "\n",
    "    for i in range(values_sorted.size):\n",
    "        if len(value_list) < top_count:\n",
    "            if values_sorted.index[i] != '':\n",
    "                value_list.append(values_sorted.index[i])\n",
    "                amount_list.append(values_sorted.iloc[i])\n",
    "            else:\n",
    "                pass\n",
    "        else:\n",
    "            break\n",
    "\n",
    "    amount_sum = sum(amount_list)\n",
    "\n",
    "    for j in amount_list:\n",
    "        upper_limits.append(amount_sum - diff)\n",
    "        diff += j\n",
    "        lower_limits.append(amount_sum - diff)\n",
    "\n",
    "    top_values = list(zip(value_list, upper_limits, lower_limits))\n",
    "    freq_value = random.randint(1, amount_sum)\n",
    "    value_pick = 0\n",
    "    x = 0\n",
    "    \n",
    "    while x < len(top_values):\n",
    "        if (freq_value <= top_values[x][1]) & (freq_value > top_values[x][2]):\n",
    "            value_pick = top_values[x][0]\n",
    "            x = len(top_values)\n",
    "        else:\n",
    "            x +=1\n",
    "    return value_pick\n",
    "    # change to nested function \n",
    "    \n",
    "    \n",
    "for row in range(len(data['contract'])):\n",
    "    if np.isnan(data['contract'][row]) == True:\n",
    "        top10_pick = topx_picker(df=data, in_column='contract', topx=10)\n",
    "        data['contract'][row] = top10_pick \n",
    "    else:\n",
    "        pass\n"
   ]
  },
  {
   "cell_type": "code",
   "execution_count": null,
   "id": "92865b8e-a1f6-44aa-9129-5e456fb16170",
   "metadata": {},
   "outputs": [],
   "source": [
    "# droping line with null values in other columns. All columns with 58 missing values seem to be missing for the same players, so theres going to be neglegible data loss\n",
    "data = data.dropna()"
   ]
  },
  {
   "cell_type": "code",
   "execution_count": null,
   "id": "d7eb6480-7944-42c3-a57c-890724207552",
   "metadata": {},
   "outputs": [],
   "source": [
    "# conversion of object columns to numerical columns e.g. weight, height, r_sillmove    "
   ]
  },
  {
   "cell_type": "code",
   "execution_count": null,
   "id": "963f2c49-d0ae-41f5-b509-d5cfaec75729",
   "metadata": {},
   "outputs": [],
   "source": [
    "# cleaning 'hits' as preparation for conversion\n",
    "\n",
    "def k_m_to_num(x):\n",
    "    if (('m') in str(x).lower()):\n",
    "        x = x.replace('m','')\n",
    "        x = int(round(float(x)*1000000))\n",
    "        return x\n",
    "    elif (('k') in str(x).lower()):\n",
    "        x = x.replace('k','')\n",
    "        x = int(round(float(x)*1000))\n",
    "        return x\n",
    "    else:\n",
    "        return int(round(float(x)))\n",
    "\n",
    "data['hits'] = data['hits'].apply(k_m_to_num)"
   ]
  },
  {
   "cell_type": "code",
   "execution_count": null,
   "id": "0607030a-4d53-4cbb-bd9f-350fb49a259c",
   "metadata": {
    "jupyter": {
     "outputs_hidden": true
    },
    "tags": []
   },
   "outputs": [],
   "source": [
    "col_numconv = ['weight', 'joined', 'contract', 'hits']\n",
    "\n",
    "for column in col_numconv:\n",
    "    data[column] = data[column].apply(pd.to_numeric, errors='coerce')\n",
    "\n",
    "# checking if conversion produced null values\n",
    "for column in data.columns:\n",
    "    print(column, data[column].isna().sum())"
   ]
  },
  {
   "cell_type": "code",
   "execution_count": null,
   "id": "618bac51-68ca-422f-88d9-907e20e2bf73",
   "metadata": {},
   "outputs": [],
   "source": [
    "def float_to_int(x):\n",
    "    x = int(round(x))\n",
    "    return x\n",
    "\n",
    "col_num = list(data.select_dtypes(include=[np.number]).columns.values)\n",
    "\n",
    "for column in col_num:\n",
    "    data[column] = data[column].apply(float_to_int)\n",
    "    data[column] = data[column].apply(pd.to_numeric, downcast='integer')"
   ]
  },
  {
   "cell_type": "code",
   "execution_count": null,
   "id": "064bfba5-46e8-437a-913b-8c10b5302ae1",
   "metadata": {
    "jupyter": {
     "outputs_hidden": true
    },
    "tags": []
   },
   "outputs": [],
   "source": [
    "data.dtypes"
   ]
  },
  {
   "cell_type": "markdown",
   "id": "fb960693-9f47-48e0-868a-bcb366a49fdf",
   "metadata": {},
   "source": [
    "# 4 EDA"
   ]
  },
  {
   "cell_type": "code",
   "execution_count": null,
   "id": "b60d6958-e5b1-4f3a-9f04-616191436578",
   "metadata": {},
   "outputs": [],
   "source": [
    "data_m = data.copy()\n",
    "data_cat = data_m.select_dtypes(np.object)\n",
    "data_num = data_m.select_dtypes(np.number)"
   ]
  },
  {
   "cell_type": "markdown",
   "id": "f1f7ce02-72af-495b-98a9-48a68d007ae6",
   "metadata": {},
   "source": [
    "#### | numerical columns |"
   ]
  },
  {
   "cell_type": "code",
   "execution_count": null,
   "id": "ebeda0ba-76a9-4e1b-be7a-378480207334",
   "metadata": {
    "jupyter": {
     "outputs_hidden": true
    },
    "tags": []
   },
   "outputs": [],
   "source": [
    "# initial overview\n",
    "data_num.describe().T"
   ]
  },
  {
   "cell_type": "code",
   "execution_count": null,
   "id": "0f6845da-6fdc-4b07-971f-a918cd5b072c",
   "metadata": {
    "jupyter": {
     "outputs_hidden": true
    },
    "tags": []
   },
   "outputs": [],
   "source": [
    "for column in data_num:\n",
    "    plt.figure(figsize=(8,5))\n",
    "    sns.distplot(data_num[column])\n",
    "    plt.show()"
   ]
  },
  {
   "cell_type": "code",
   "execution_count": null,
   "id": "fd47ed5c-b310-4872-aad3-a8d38e270a0a",
   "metadata": {
    "jupyter": {
     "outputs_hidden": true
    },
    "tags": []
   },
   "outputs": [],
   "source": [
    "for column in data_num:\n",
    "    plt.figure(figsize=(8,5))\n",
    "    sns.boxplot(x=data_num[column])\n",
    "    plt.show()"
   ]
  },
  {
   "cell_type": "code",
   "execution_count": null,
   "id": "5ea15433-941d-448b-99a5-2a5fedc212f1",
   "metadata": {},
   "outputs": [],
   "source": [
    "'''\n",
    "# NOT WORKING\n",
    "\n",
    "numcol_count = len(data_num.columns)\n",
    "i = 0\n",
    "fig, axs = plt.subplots(numcol_count, 2)\n",
    "\n",
    "for column in data_num:\n",
    "    sns.distplot(data_num[column], ax=axs[i, 0])\n",
    "    sns.boxplot(x=data_num[column], ax=axs[i, 1])\n",
    "    plt.show()\n",
    "    i += 1\n",
    "'''"
   ]
  },
  {
   "cell_type": "markdown",
   "id": "c0226f43-060b-48e7-9a1d-b7063b8c1aa7",
   "metadata": {},
   "source": [
    "#### ! data improvements for better EDA !\n",
    "\n",
    "#### | data splitting / grouping |\n",
    "\n",
    "There is too much data for a sound overview of the correlations. Therefore I'm splitting data as follows:\n",
    "\n",
    "1. Creating two separate datasets where one contains individual attributes and one umbrella attributes. \n",
    "    Umbrella attributes contain values that are aggregations or, weighted averages of individual attributes.\n",
    "2. Adding columns for standard deviations of the values within umbrella attributes and accross attributes to check later on \n",
    "    if a homogeneity in skills plays a role in predicting performance/value\n",
    "\n"
   ]
  },
  {
   "cell_type": "code",
   "execution_count": null,
   "id": "6fc95558-806f-4671-b86a-0fb6eb323978",
   "metadata": {},
   "outputs": [],
   "source": [
    "# data_umb for umbrella attributes, data_att for individual attributes\n",
    "data_umb = data_num.copy()\n",
    "data_att = data_num.copy()"
   ]
  },
  {
   "cell_type": "code",
   "execution_count": null,
   "id": "cd581e30-ba7a-4cf8-9c1a-6329beb93495",
   "metadata": {},
   "outputs": [],
   "source": [
    "def cc_stdev(df, columns, target_column):\n",
    "    # function to store the stdev accross multiple columns for each row in a target column and delete original columns\n",
    "    df[target_column] = ''\n",
    "    \n",
    "    for i in range(len(df)):\n",
    "        df[target_column].iloc[i] = round(np.nanstd(df[columns].iloc[i]), 2)\n",
    "    \n",
    "    df[target_column] = df[target_column].apply(pd.to_numeric, downcast='float', errors='coerce')\n",
    "    df = df.drop(columns=columns, axis=1)\n",
    "    return df\n",
    "\n",
    "def cc_mean(df, columns, target_column):\n",
    "    # function to calculate mean accross multiple columns for each row, store in a target column and delete original\n",
    "    df[target_column] = ''\n",
    "    \n",
    "    for i in range(len(df)):\n",
    "        df[target_column].iloc[i] = round(np.nanmean(df[columns].iloc[i]), 2)\n",
    "   \n",
    "    df[target_column] = df[target_column].apply(pd.to_numeric, downcast='float', errors='coerce')\n",
    "    df = df.drop(columns=columns, axis=1)\n",
    "    return df"
   ]
  },
  {
   "cell_type": "code",
   "execution_count": null,
   "id": "5eae0d13-fe32-45f9-a33a-3f1e42b78de5",
   "metadata": {},
   "outputs": [],
   "source": [
    "# replacing attribute columns with stdev or average columns\n",
    "\n",
    "att_pac = ['acceleration', 'sprint_speed']\n",
    "att_sho = ['finishing', 'long_shots', 'shot_power', 'penalties', 'volleys', 'positioning']\n",
    "att_pas = ['crossing', 'curve', 'fk_accuracy', 'long_passing', 'short_passing', 'vision']\n",
    "att_dri = ['agility', 'balance', 'ball_control', 'composure', 'dribbling', 'reactions']\n",
    "att_def = ['heading_accuracy', 'interceptions', 'sliding_tackle', 'standing_tackle', 'marking']\n",
    "att_phy = ['aggression', 'jumping', 'stamina', 'strength']\n",
    "att_gk = ['gk_handling', 'gk_kicking', 'gk_diving', 'gk_positioning', 'gk_reflexes']\n",
    "pos = ['ls', 'st', 'rs','lw', 'lf', 'cf', 'rf', 'rw', 'lam', 'cam', 'ram', 'lm', 'lcm', 'cm', 'rcm', 'rm', 'lwb', 'ldm', 'cdm', 'rdm', 'rwb', 'lb', 'lcb', 'cb', 'rcb', 'rb']\n",
    "pos_s = ['ls', 'st', 'rs']\n",
    "pos_m = ['lw', 'rw', 'lam', 'cam', 'ram', 'lm', 'lcm', 'cm', 'rcm', 'rm', 'ldm', 'cdm', 'rdm']\n",
    "pos_b = ['lf', 'cf', 'rf', 'rwb', 'lb', 'lcb', 'cb', 'rcb', 'rb', 'lwb']\n",
    "\n",
    "data_umb = cc_stdev(data_umb, columns=att_pac, target_column='pac_stdev')\n",
    "data_umb = cc_stdev(data_umb, columns=att_sho, target_column='sho_stdev')\n",
    "data_umb = cc_stdev(data_umb, columns=att_pas, target_column='pas_stdev')\n",
    "data_umb = cc_stdev(data_umb, columns=att_dri, target_column='dri_stdev')\n",
    "data_umb = cc_stdev(data_umb, columns=att_def, target_column='def_stdev')\n",
    "data_umb = cc_stdev(data_umb, columns=att_phy, target_column='phy_stdev')\n",
    "data_umb = cc_stdev(data_umb, columns=att_gk, target_column='gk_stdev')\n",
    "data_umb = cc_mean(data_umb, columns=pos, target_column='pos_avg')\n",
    "\n",
    "data_att = cc_mean(data_att, columns=pos_s, target_column='s_avg')\n",
    "data_att = cc_mean(data_att, columns=pos_m, target_column='m_avg')\n",
    "data_att = cc_mean(data_att, columns=pos_b, target_column='b_avg')\n"
   ]
  },
  {
   "cell_type": "code",
   "execution_count": null,
   "id": "0397769b-0be1-4edf-8e1f-72693658d1b3",
   "metadata": {},
   "outputs": [],
   "source": [
    "# dropping columns with umbrella attributes\n",
    "drop_umb = ['attacking', 'skill', 'movement', 'power', 'mentality', 'pac', 'sho', 'pas', 'dri', 'def', 'phy', 'total_stats', 'base_stats']\n",
    "\n",
    "data_att = data_att.drop(columns=drop_umb, axis=1)\n"
   ]
  },
  {
   "cell_type": "code",
   "execution_count": null,
   "id": "04e80aca-a32d-47d8-b523-4c4429506857",
   "metadata": {
    "jupyter": {
     "outputs_hidden": true
    },
    "tags": []
   },
   "outputs": [],
   "source": [
    "# heatmap for data including umbrella attributes\n",
    "\n",
    "mask = np.zeros_like(data_umb.corr())\n",
    "\n",
    "mask[np.triu_indices_from(mask)] = True \n",
    "\n",
    "fig, ax = plt.subplots(figsize=(20, 18))\n",
    "ax = sns.heatmap(data_umb.corr(), mask=mask, annot=True)\n",
    "plt.show()"
   ]
  },
  {
   "cell_type": "code",
   "execution_count": null,
   "id": "9b3316cb-5e58-4d1f-8404-a1906985235f",
   "metadata": {
    "jupyter": {
     "outputs_hidden": true
    },
    "tags": []
   },
   "outputs": [],
   "source": [
    "# heatmap for data including individual attributes\n",
    "\n",
    "mask = np.zeros_like(data_att.corr())\n",
    "\n",
    "mask[np.triu_indices_from(mask)] = True \n",
    "\n",
    "fig, ax = plt.subplots(figsize=(20, 18))\n",
    "ax = sns.heatmap(data_att.corr(), mask=mask, annot=True)\n",
    "plt.show()"
   ]
  },
  {
   "cell_type": "markdown",
   "id": "9f13a0f3-b504-4a6e-9fbc-2a38c8727016",
   "metadata": {},
   "source": [
    "# 5 Processing Data"
   ]
  },
  {
   "cell_type": "markdown",
   "id": "4082c0f9-d0de-4ee9-978c-147e459e7289",
   "metadata": {},
   "source": [
    "#### | Baseline model |\n",
    "\n",
    "initial modeling to compare with coming models after data changes (transformations, encoding, ...)"
   ]
  },
  {
   "cell_type": "code",
   "execution_count": null,
   "id": "9c147dbd-962a-44ce-b39b-84ef34a3532b",
   "metadata": {
    "jupyter": {
     "outputs_hidden": true
    },
    "tags": []
   },
   "outputs": [],
   "source": [
    "# model with data including umbrella attributes\n",
    "\n",
    "x_1 = data_umb.drop(['value'], axis=1)\n",
    "y_1 = data_umb['value']\n",
    "\n",
    "x_1 = sm.add_constant(x_1)\n",
    "\n",
    "model = sm.OLS(y_1,x_1).fit() \n",
    "\n",
    "print(model.summary())"
   ]
  },
  {
   "cell_type": "code",
   "execution_count": null,
   "id": "54ac2ae0-0dce-471c-b276-43027cdc2bee",
   "metadata": {
    "jupyter": {
     "outputs_hidden": true
    },
    "tags": []
   },
   "outputs": [],
   "source": [
    "# model with data including individual attributes\n",
    "\n",
    "x_2 = data_att.drop(['value'], axis=1)\n",
    "y_2 = data_att['value']\n",
    "\n",
    "x_2 = sm.add_constant(x_2)\n",
    "\n",
    "model = sm.OLS(y_2,x_2).fit() \n",
    "\n",
    "print(model.summary())"
   ]
  },
  {
   "cell_type": "code",
   "execution_count": null,
   "id": "519c3af5-061a-4215-bd66-9e09c37b98ed",
   "metadata": {},
   "outputs": [],
   "source": [
    "# train-test-split pre-engineering\n",
    "\n",
    "x_train_pre, x_test_pre, y_train_pre, y_test_pre = train_test_split(x_1, y_1, test_size=0.25, random_state=8)\n",
    "\n",
    "model = LinearRegression()\n",
    "model.fit(x_train_pre, y_train_pre)\n",
    "\n",
    "predictions = model.predict(x_test_pre)\n",
    "\n",
    "r2_score(y_test_pre, predictions), mean_absolute_error(y_test_pre, predictions), mean_squared_error(y_test_pre, predictions, squared=False)"
   ]
  },
  {
   "cell_type": "markdown",
   "id": "e6d75ad3-a299-4560-b6f5-6f10d599d14b",
   "metadata": {},
   "source": [
    "-> Continuing with the umbrella attribute data. Both dataset perform very similar but, it has fewer columns"
   ]
  },
  {
   "cell_type": "markdown",
   "id": "7a40b0cd-d1f2-4e50-896c-ba52022a57a5",
   "metadata": {},
   "source": [
    "\n",
    "#### | feature selection (categorial) |\n",
    "\n",
    "- dropping columns 'name', 'foot' because not relevant\n",
    "- dropping column 'club'. Despite being possibly relevant, \n",
    "    it's difficult to use in this type of model because of the large amount of unique values, \n",
    "    and grouping takes too long\n",
    "- dropping column 'position'. Alternatively, e.g. convert to numerical to see\n",
    "    if the number of possible positions of a player is relevant, but a players versatility is arguably\n",
    "    better captured by the position scores\n",
    "- reducing the amount of unique values in 'nationality' and 'bp' for better encoding later \n",
    "    with grouping or picking the top 10 values and grouping the rest \n"
   ]
  },
  {
   "cell_type": "code",
   "execution_count": null,
   "id": "25e0feae-5848-4cd4-b3f5-4cc139865fac",
   "metadata": {},
   "outputs": [],
   "source": [
    "data_cat = data_cat.drop(columns=['name', 'foot','club', 'position'], axis=1)"
   ]
  },
  {
   "cell_type": "code",
   "execution_count": null,
   "id": "06339739-c015-4551-9a1e-52a94ebc237d",
   "metadata": {},
   "outputs": [],
   "source": [
    "# limiting column to the top 10 values\n",
    "\n",
    "def topx_limit(df, in_columns, topx):\n",
    "    value_list = []\n",
    "    \n",
    "    for col in in_columns:\n",
    "        values_sorted = df[col].value_counts()\n",
    "        \n",
    "        for i in range(values_sorted.size):\n",
    "            if len(value_list) < topx:\n",
    "                if values_sorted.index[i] != '':\n",
    "                    value_list.append(values_sorted.index[i])\n",
    "                else:\n",
    "                    pass\n",
    "            else:\n",
    "                break\n",
    "            \n",
    "        for j in range(len(df[col])):\n",
    "            if df[col].iloc[j] in value_list:\n",
    "                df[col].iloc[j] = df[col].iloc[j] \n",
    "            else: \n",
    "                df[col].iloc[j] = 'other'\n",
    "    return df     "
   ]
  },
  {
   "cell_type": "code",
   "execution_count": null,
   "id": "932fe2b3-c328-4fa8-949f-58d937aef2e6",
   "metadata": {},
   "outputs": [],
   "source": [
    "data_cat = topx_limit(df=data_cat, in_columns=['nationality'], topx=10)"
   ]
  },
  {
   "cell_type": "code",
   "execution_count": null,
   "id": "ea020b15-de01-42c0-b6f7-ee6b6e740ff2",
   "metadata": {},
   "outputs": [],
   "source": [
    "# grouping 'bp' values into values for strikers, midfielder, defense and goalkeepers\n",
    "\n",
    "for i in range(len(data_cat)):\n",
    "    if data_cat['bp'].iloc[i] in pos_s:\n",
    "        data_cat['bp'].iloc[i] = 's'\n",
    "    elif data_cat['bp'].iloc[i] in pos_m:\n",
    "        data_cat['bp'].iloc[i] = 'm'\n",
    "    elif data_cat['bp'].iloc[i] in pos_b:\n",
    "        data_cat['bp'].iloc[i] = 'b'\n",
    "    elif data_cat['bp'].iloc[i] == 'gk':\n",
    "        data_cat['bp'].iloc[i] = 'gk'\n",
    "    else:\n",
    "        data_cat['bp'].iloc[i] = 'other'\n"
   ]
  },
  {
   "cell_type": "code",
   "execution_count": null,
   "id": "c8d5a4f6-7852-4c47-ae68-fc38c9cd2b7b",
   "metadata": {},
   "outputs": [],
   "source": [
    "# concat numerical and categorial data\n",
    "\n",
    "players = pd.concat([data_umb, data_cat], axis=1)"
   ]
  },
  {
   "cell_type": "code",
   "execution_count": null,
   "id": "e4a3bc07-b0d7-433f-a774-3d7bd000ea11",
   "metadata": {
    "tags": []
   },
   "outputs": [],
   "source": [
    "players.head()"
   ]
  },
  {
   "cell_type": "markdown",
   "id": "e7cfd4f3-f3d5-4c30-b969-62d8ab66d6a7",
   "metadata": {},
   "source": [
    "#### | feature selection (numerical) |"
   ]
  },
  {
   "cell_type": "code",
   "execution_count": null,
   "id": "88666df8-eb69-4c04-9a23-69e8ca3a4f55",
   "metadata": {},
   "outputs": [],
   "source": [
    "# dropping columns with p values above 0.05 or very high colinearity with other columns (e.g. pos_avg, attacking)\n",
    "\n",
    "feat_drop1 = ['height', 'weight', 'mentality', 'defending', 'goalkeeping', 'base_stats', 'r_weakfoot', 'pac', 'def', 'hits', 'sho_stdev', 'dri_stdev', 'def_stdev', 'pos_avg', 'attacking', 'skill', 'mentality'] \n",
    "players = players.drop(columns=feat_drop1, axis=1)\n",
    "\n"
   ]
  },
  {
   "cell_type": "markdown",
   "id": "2ec108be-b1c1-469c-9fa9-cdfc684f05d2",
   "metadata": {},
   "source": [
    "#### | encoding cathegorial columns |"
   ]
  },
  {
   "cell_type": "code",
   "execution_count": null,
   "id": "a728dc1f-65c9-47bd-b351-e24469c3518e",
   "metadata": {
    "jupyter": {
     "outputs_hidden": true
    },
    "tags": []
   },
   "outputs": [],
   "source": [
    "col_encode = ['nationality', 'bp', 'r_attacking_work', 'r_defensive_work']\n",
    "players = pd.get_dummies(players, columns=col_encode, drop_first=True)\n",
    "players.head()"
   ]
  },
  {
   "cell_type": "markdown",
   "id": "4e6ce349-e61f-4e53-8597-9246b581423a",
   "metadata": {},
   "source": [
    "#### | model comparison |"
   ]
  },
  {
   "cell_type": "code",
   "execution_count": null,
   "id": "470f9f13-5b57-4ce4-9c7d-0d3b479b1b4b",
   "metadata": {},
   "outputs": [],
   "source": [
    "x_e = players.drop(['value'], axis=1)\n",
    "y_e = players['value']\n",
    "\n",
    "x_train_e, x_test_e, y_train_e, y_test_e = train_test_split(x_e, y_e, test_size=0.25, random_state=8)\n",
    "\n",
    "model = LinearRegression()\n",
    "model.fit(x_train_e, y_train_e)\n",
    "\n",
    "predictions = model.predict(x_test_e)\n",
    "\n",
    "r2_score(y_test_e, predictions), mean_absolute_error(y_test_e, predictions), mean_squared_error(y_test_e, predictions, squared=False)"
   ]
  },
  {
   "cell_type": "markdown",
   "id": "2515117a-30c5-4df8-a081-f81afcd7d070",
   "metadata": {},
   "source": [
    "##### | data selection |\n",
    "\n",
    "There are double peaks present in many columns distibution plots, suggesting that players might fall \n",
    "into two distinct groups. An educated guess is field players and goalkeepers. \n",
    "Separating goalkeepers and field players into different datasets \n",
    "and deleting column that are likely irrelevant for their performance/value\n"
   ]
  },
  {
   "cell_type": "code",
   "execution_count": null,
   "id": "92fcc271-516c-484f-bdfa-a82e937a4e86",
   "metadata": {},
   "outputs": [],
   "source": [
    "players_filtered = players[players['bp_gk'] == 0]\n",
    "players_filtered = players_filtered.drop(['gk'], axis=1)"
   ]
  },
  {
   "cell_type": "markdown",
   "id": "e6f687b3-cfe7-4636-9e49-a5ee5652888c",
   "metadata": {},
   "source": [
    "#### | model comparison |"
   ]
  },
  {
   "cell_type": "code",
   "execution_count": null,
   "id": "0dc8c889-326b-4dfc-9ae7-f7e7b4a35918",
   "metadata": {},
   "outputs": [],
   "source": [
    "x_f = players_filtered.drop(['value'], axis=1)\n",
    "y_f = players_filtered['value']\n",
    "\n",
    "x_train_f, x_test_f, y_train_f, y_test_f = train_test_split(x_f, y_f, test_size=0.25, random_state=8)\n",
    "\n",
    "model = LinearRegression()\n",
    "model.fit(x_train_f, y_train_f)\n",
    "\n",
    "predictions = model.predict(x_test_f)\n",
    "\n",
    "r2_score(y_test_f, predictions), mean_absolute_error(y_test_f, predictions), mean_squared_error(y_test_f, predictions, squared=False)"
   ]
  },
  {
   "cell_type": "markdown",
   "id": "719ba132-e6aa-447f-972a-f84908b96ffa",
   "metadata": {},
   "source": [
    "#### | transformations |"
   ]
  },
  {
   "cell_type": "code",
   "execution_count": null,
   "id": "4ce23d52-14ff-4ac4-a386-b3ef80f684eb",
   "metadata": {
    "jupyter": {
     "outputs_hidden": true
    },
    "tags": []
   },
   "outputs": [],
   "source": [
    "for column in players_filtered.columns:\n",
    "    plt.figure(figsize=(8,5))\n",
    "    sns.distplot(players_filtered[column])\n",
    "    plt.show()"
   ]
  },
  {
   "cell_type": "code",
   "execution_count": null,
   "id": "31f8683c-7c25-4e4f-b0bb-dd16d627e08e",
   "metadata": {},
   "outputs": [],
   "source": [
    "# boxcox transform some columns\n",
    "\n",
    "def boxcox_transform(df, columns):\n",
    "    _ci = {column: None for column in columns}\n",
    "    for column in columns:\n",
    "        df[column] = np.where(df[column]<=0, np.NAN, df[column]) \n",
    "        df[column] = df[column].fillna(df[column].median())\n",
    "        transformed_data, ci = stats.boxcox(df[column])\n",
    "        df[column] = transformed_data\n",
    "        _ci[column] = [ci] \n",
    "    return df, _ci\n"
   ]
  },
  {
   "cell_type": "code",
   "execution_count": null,
   "id": "be809110-5603-4da5-81d2-aae141baff8c",
   "metadata": {},
   "outputs": [],
   "source": [
    "# col_boxcox = ['age', 'value', 'wage', 'release_clause', 'movement', 'power', 'total_stats', 'sho', 'phy']\n",
    "\n",
    "# players_filtered, _ci = boxcox_transform(players_filtered, columns=col_boxcox)"
   ]
  },
  {
   "cell_type": "markdown",
   "id": "4c13c89c-0a3d-4a15-a083-e0204fa3467d",
   "metadata": {},
   "source": [
    "-> not performing any transformations after trying a few diffrent combinations of columns but r2_score always decreasing between .02 and .13\n"
   ]
  },
  {
   "cell_type": "markdown",
   "id": "5e5d253f-89bb-4ddc-a952-3f144a514425",
   "metadata": {},
   "source": [
    "#### | removing outliers |"
   ]
  },
  {
   "cell_type": "code",
   "execution_count": null,
   "id": "9e5d3ade-a02e-4d79-880c-be9a793e373f",
   "metadata": {
    "jupyter": {
     "outputs_hidden": true
    },
    "tags": []
   },
   "outputs": [],
   "source": [
    "for column in players_filtered.columns:\n",
    "    plt.figure(figsize=(8,5))\n",
    "    sns.boxplot(players_filtered[column])\n",
    "    plt.show()"
   ]
  },
  {
   "cell_type": "code",
   "execution_count": null,
   "id": "7401f083-d377-4923-8795-1ae9a9957a62",
   "metadata": {},
   "outputs": [],
   "source": [
    "def remove_outliers(df, threshold=1.5, in_columns=[], skip_columns=[]):\n",
    "    for column in in_columns:\n",
    "        if column not in skip_columns:\n",
    "            upper = np.percentile(df[column],75)\n",
    "            lower = np.percentile(df[column],25)\n",
    "            iqr = upper - lower\n",
    "            upper_limit = upper + (threshold * iqr)\n",
    "            lower_limit = lower - (threshold * iqr)\n",
    "            df = df[(df[column]>lower_limit) & (df[column]<upper_limit)]\n",
    "    return df\n"
   ]
  },
  {
   "cell_type": "code",
   "execution_count": null,
   "id": "b1f42f70-2856-47b0-b27d-d753b4b2d57b",
   "metadata": {
    "tags": []
   },
   "outputs": [],
   "source": [
    "'''\n",
    "col_outl = ['age', 'ova', 'bov', 'pot', 'growth', 'joined', 'value', 'wage', 'release_clause', \n",
    "            'movement', 'power', 'contract', 'total_stats', 'r_skillmove', 'pas', 'dri', 'phy', \n",
    "            'pac_stdev', 'pas_stdev', 'phy_stdev', 'gk_stdev']\n",
    "\n",
    "players_filtered = remove_outliers(players_filtered, in_columns=col_outl)\n",
    "\n",
    "'''"
   ]
  },
  {
   "cell_type": "markdown",
   "id": "d094e065-7da0-48d2-a8fb-0cf015238e63",
   "metadata": {
    "tags": []
   },
   "source": [
    "-> not removing outliers. After trying, r2_score dropped significantly (around .28)"
   ]
  },
  {
   "cell_type": "markdown",
   "id": "f7d75a13-0a16-4a66-a8a7-58fd2331f12b",
   "metadata": {},
   "source": [
    "# 6 Final Modeling / Validation\n"
   ]
  },
  {
   "cell_type": "code",
   "execution_count": null,
   "id": "368b6b0b-6e07-447a-937c-e8dfec69cf25",
   "metadata": {},
   "outputs": [],
   "source": [
    "x_final = players_filtered.drop(['value'], axis=1)\n",
    "y_final = players_filtered['value']\n",
    "\n",
    "x_train_final, x_test_final, y_train_final, y_test_final = train_test_split(x_final, y_final, test_size=0.25, random_state=8)\n",
    "\n",
    "model = LinearRegression()\n",
    "model.fit(x_train_final, y_train_final)\n",
    "\n",
    "predictions = model.predict(x_test_final)\n",
    "\n",
    "r2_score(y_test_final, predictions), mean_absolute_error(y_test_final, predictions), mean_squared_error(y_test_final, predictions, squared=False)"
   ]
  },
  {
   "cell_type": "markdown",
   "id": "db7731af-09b3-490f-94f9-84f854172f8d",
   "metadata": {},
   "source": [
    "# 7 Reporting\n"
   ]
  },
  {
   "cell_type": "code",
   "execution_count": null,
   "id": "bcf9e6bf-55e0-454d-a280-dda8bfc767b0",
   "metadata": {
    "tags": []
   },
   "outputs": [],
   "source": [
    "results = pd.DataFrame()\n",
    "results['value'] = y_test_final\n",
    "results['pred_value'] = predictions\n",
    "results['residual'] = results.apply(lambda x: abs(x['value'] - x['pred_value']), axis=1)\n",
    "results.head()"
   ]
  },
  {
   "cell_type": "markdown",
   "id": "6bae70df-713d-476d-a9fa-b88491b79907",
   "metadata": {},
   "source": [
    "-> confused about the results. Because of a lack of time I wont be able to check whats going on, but I'm going to ask in class.\n",
    "\n",
    "-> ToDo: Add a function that produces a df with the results of the different models for comparison (name model/comb. of models, r2, ...)"
   ]
  },
  {
   "cell_type": "markdown",
   "id": "a3362376-16b2-4bfc-bcaa-82fcd56016fe",
   "metadata": {},
   "source": [
    "\n",
    "# Q1 \n",
    "\n",
    "How much does the prediction quality vary in relation to the value? \n",
    "E.g. is there a trend of the model getting worse the higher the value is (outliers)?\n"
   ]
  },
  {
   "cell_type": "code",
   "execution_count": null,
   "id": "ce2d57b7-3a80-4564-bb25-c5debcd91c08",
   "metadata": {
    "jupyter": {
     "outputs_hidden": true
    },
    "tags": []
   },
   "outputs": [],
   "source": [
    "results['dev_percent'] = results.apply(lambda x: abs((x['residual'] / x['value'])*100), axis=1)\n",
    "\n",
    "plt.figure(figsize=(20,8))\n",
    "sns.scatterplot(data=results, x=results['value'], y=results['residual'])\n",
    "#sns.barplot(data=results, x=results['value'], y=results['dev_percent'], bins=50, ax=axs[1, 0])\n",
    "plt.show()"
   ]
  },
  {
   "cell_type": "code",
   "execution_count": null,
   "id": "9380877a-4f7c-4c2b-b4fe-aafe604c601d",
   "metadata": {
    "jupyter": {
     "outputs_hidden": true
    },
    "tags": []
   },
   "outputs": [],
   "source": [
    "plt.figure(figsize=(20,8))\n",
    "sns.barplot(data=results, x=results['value'], y=results['dev_percent'])\n",
    "plt.show()"
   ]
  },
  {
   "cell_type": "markdown",
   "id": "fc5abca1-ebfb-47a5-984d-6b7721f794fa",
   "metadata": {},
   "source": [
    "-> The results are a little puzzling. They suggests that the models acurracy is highly skewed towards the higher end (i.e. outliers) of the value distribution. "
   ]
  },
  {
   "cell_type": "markdown",
   "id": "def79b99-69f7-4201-a9e3-956f439ecfcc",
   "metadata": {},
   "source": [
    "# Q2\n",
    "\n",
    "Which position has the highest average value?\n"
   ]
  },
  {
   "cell_type": "code",
   "execution_count": null,
   "id": "ca9d2ad4-86a4-4d9f-946d-9aade43abc53",
   "metadata": {},
   "outputs": [],
   "source": [
    "pos_gk = ['ls', 'st', 'rs','lw', 'lf', 'cf', 'rf', 'rw', 'lam', 'cam', 'ram', 'lm', 'lcm', 'cm', 'rcm', 'rm', 'lwb', 'ldm', 'cdm', 'rdm', 'rwb', 'lb', 'lcb', 'cb', 'rcb', 'rb', 'gk']\n",
    "pos_s = ['ls', 'st', 'rs']\n",
    "pos_m = ['lw', 'rw', 'lam', 'cam', 'ram', 'lm', 'lcm', 'cm', 'rcm', 'rm', 'ldm', 'cdm', 'rdm']\n",
    "pos_b = ['lf', 'cf', 'rf', 'rwb', 'lb', 'lcb', 'cb', 'rcb', 'rb', 'lwb']"
   ]
  },
  {
   "cell_type": "code",
   "execution_count": null,
   "id": "b34b407b-bcf1-4abe-a420-c63570049ac6",
   "metadata": {},
   "outputs": [],
   "source": [
    "data3 = data_m.copy()\n",
    "data3['field_area'] = ''\n",
    "\n",
    "pos_value = pd.DataFrame()\n",
    "pos_value['pos'] = pos_gk\n",
    "pos_value['field_area'] = ''\n",
    "pos_value['pos_avg'] = ''\n",
    "\n",
    "for i in range(len(data3)):\n",
    "    if data3['bp'].iloc[i] in pos_s:\n",
    "        data3['field_area'] = 's'\n",
    "    elif data3['bp'].iloc[i] in pos_m:\n",
    "        data3['field_area'] = 'm'\n",
    "    elif data3['bp'].iloc[i] in pos_b:\n",
    "        data3['field_area'] = 'b'\n",
    "    elif data3['bp'].iloc[i] == 'gk':\n",
    "        data3['field_area'] = 'gk'\n",
    "    else:\n",
    "        data3['field_area'] = 'other'\n",
    "        \n",
    "for j in pos_value['pos']:\n",
    "    pos_value['pos_avg'] = data3[data3['bp'] == j]['value'].mean()\n",
    "    if j in pos_s:\n",
    "        pos_value['field_area'] = 's'\n",
    "    elif j in pos_m:\n",
    "        pos_value['field_area'] = 'm'\n",
    "    elif j in pos_b:\n",
    "        pos_value['field_area'] = 'b'\n",
    "    elif j == 'gk':\n",
    "        pos_value['field_area'] = 'gk'\n",
    "    else:\n",
    "        pos_value['field_area'] = 'other'"
   ]
  },
  {
   "cell_type": "code",
   "execution_count": null,
   "id": "e4af2514-4fdf-4795-9263-2a513b4b173d",
   "metadata": {
    "jupyter": {
     "outputs_hidden": true
    },
    "tags": []
   },
   "outputs": [],
   "source": [
    "plt.figure(figsize=(20,8))\n",
    "sns.barplot(x=\"pos\", y=\"pos_avg\", data=pos_value) # x=\"field_area\", hue=\"pos\"\n",
    "plt.show()"
   ]
  },
  {
   "cell_type": "markdown",
   "id": "ad7c20e0-9517-4d6e-9a5d-2a05995ebf94",
   "metadata": {},
   "source": [
    "# Q3 \n",
    "How many players have a maximum overall score?"
   ]
  },
  {
   "cell_type": "code",
   "execution_count": null,
   "id": "c5ae606b-0e03-432f-add1-684caa5fa69c",
   "metadata": {
    "jupyter": {
     "outputs_hidden": true
    },
    "tags": []
   },
   "outputs": [],
   "source": [
    "ova_max = data3['ova'].max()\n",
    "\n",
    "data3[data3['ova'] == ova_max]"
   ]
  },
  {
   "cell_type": "code",
   "execution_count": null,
   "id": "d41a8eab-9b66-4582-870b-4ec1ed016166",
   "metadata": {
    "jupyter": {
     "outputs_hidden": true
    },
    "tags": []
   },
   "outputs": [],
   "source": [
    "print(len(data3[data3['ova'] == ova_max]))"
   ]
  },
  {
   "cell_type": "code",
   "execution_count": null,
   "id": "daf46aae-3eb1-4649-aaa1-ea4a131e2f10",
   "metadata": {},
   "outputs": [],
   "source": []
  }
 ],
 "metadata": {
  "kernelspec": {
   "display_name": "Python3Brew",
   "language": "python",
   "name": "python3brew"
  },
  "language_info": {
   "codemirror_mode": {
    "name": "ipython",
    "version": 3
   },
   "file_extension": ".py",
   "mimetype": "text/x-python",
   "name": "python",
   "nbconvert_exporter": "python",
   "pygments_lexer": "ipython3",
   "version": "3.9.4"
  },
  "toc-showtags": false
 },
 "nbformat": 4,
 "nbformat_minor": 5
}
